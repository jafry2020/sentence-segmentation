{
 "cells": [
  {
   "cell_type": "markdown",
   "metadata": {
    "id": "11_QtarKSjPf"
   },
   "source": [
    "### Fundamentals of Natural Language Processing: Assignment 1 Spring 2024"
   ]
  },
  {
   "cell_type": "markdown",
   "metadata": {
    "id": "0S_p54xNSTq_"
   },
   "source": [
    "##### This is demo program which give you idea about how to start  your assignment."
   ]
  },
  {
   "cell_type": "markdown",
   "metadata": {
    "id": "YZ83jAJ3S-uR"
   },
   "source": [
    "#### Compute Accuracy and Print Results "
   ]
  },
  {
   "cell_type": "markdown",
   "metadata": {
    "id": "vKNCVwN9uiGo"
   },
   "source": [
    "##### Your Sentence Segmentation Code"
   ]
  },
  {
   "cell_type": "code",
   "execution_count": null,
   "metadata": {
    "id": "1QaiI5i1uiGo"
   },
   "outputs": [],
   "source": []
  },
  {
   "cell_type": "code",
   "execution_count": 99,
   "metadata": {},
   "outputs": [
    {
     "name": "stderr",
     "output_type": "stream",
     "text": [
      "[nltk_data] Downloading package punkt to\n",
      "[nltk_data]     C:\\Users\\dell\\AppData\\Roaming\\nltk_data...\n",
      "[nltk_data]   Package punkt is already up-to-date!\n"
     ]
    },
    {
     "data": {
      "text/plain": [
       "True"
      ]
     },
     "execution_count": 99,
     "metadata": {},
     "output_type": "execute_result"
    }
   ],
   "source": [
    "import pandas as pd\n",
    "import csv\n",
    "import nltk \n",
    "import re\n",
    "from nltk.util import ngrams\n",
    "nltk.download('punkt')"
   ]
  },
  {
   "cell_type": "code",
   "execution_count": 100,
   "metadata": {},
   "outputs": [],
   "source": [
    "def read_txt(file_name):\n",
    "    with open(file_name, 'rt', encoding=\"utf-8\") as f:\n",
    "        reader = csv.reader(f)\n",
    "        passage = list(reader)\n",
    "        f.close()\n",
    "    return passage[0][0]\n",
    "    "
   ]
  },
  {
   "cell_type": "markdown",
   "metadata": {},
   "source": [
    "Preprocessing corpus"
   ]
  },
  {
   "cell_type": "code",
   "execution_count": 101,
   "metadata": {},
   "outputs": [],
   "source": [
    "t1 = read_txt(\"urdu-corpus.txt\")"
   ]
  },
  {
   "cell_type": "code",
   "execution_count": 113,
   "metadata": {},
   "outputs": [],
   "source": [
    "t1 = t1.replace('\\t', '')\n",
    "new = re.sub(r'[^\\w\\s.،]', '', t1)\n",
    "new = new.replace('،', '-').replace('-', ' - ')\n",
    "tokens  = nltk.word_tokenize(new)\n",
    "new = ' '.join(tokens)"
   ]
  },
  {
   "cell_type": "code",
   "execution_count": 114,
   "metadata": {},
   "outputs": [],
   "source": [
    "bigram = list(ngrams(tokens, 2))\n",
    "trigram = list(ngrams(tokens, 3))\n",
    "quadgram = list(ngrams(tokens, 4))"
   ]
  },
  {
   "cell_type": "markdown",
   "metadata": {},
   "source": [
    "model "
   ]
  },
  {
   "cell_type": "code",
   "execution_count": 177,
   "metadata": {},
   "outputs": [],
   "source": [
    "test = read_txt(\"sent-test.txt\")\n",
    "test_tokens = nltk.word_tokenize(test)\n",
    "test_text = ' '.join(test_tokens)"
   ]
  },
  {
   "cell_type": "markdown",
   "metadata": {},
   "source": [
    "`using probability (not the best way)`"
   ]
  },
  {
   "cell_type": "code",
   "execution_count": 171,
   "metadata": {},
   "outputs": [],
   "source": [
    "def cond_prob(start):\n",
    "    eos = '-'\n",
    "    denum = []\n",
    "    nenum = []\n",
    "\n",
    "    for i in bigram:\n",
    "        if (i[0] == start and i[1] == eos):\n",
    "            denum.append(i)\n",
    "    \n",
    "    for i in bigram:\n",
    "        if i[0] == start:\n",
    "            nenum.append(i)\n",
    "\n",
    "    prob = len(denum)/(len(nenum)+1)\n",
    "    if prob > 0.5:\n",
    "        return True\n",
    "    else:\n",
    "        return False"
   ]
  },
  {
   "cell_type": "code",
   "execution_count": 172,
   "metadata": {},
   "outputs": [],
   "source": [
    "for i in test_tokens:\n",
    "    if(cond_prob(i)):\n",
    "        print(i)"
   ]
  },
  {
   "cell_type": "markdown",
   "metadata": {},
   "source": [
    "`Using bigram rule`"
   ]
  },
  {
   "cell_type": "code",
   "execution_count": 225,
   "metadata": {},
   "outputs": [],
   "source": [
    "def bigram_rule():\n",
    "    eos_rules = []\n",
    "    for i in bigram:\n",
    "        if i[1] == '-':\n",
    "            eos_rules.append(i)\n",
    "            \n",
    "    temp = []\n",
    "    for i in range(len(eos_rules)):\n",
    "        tuple = eos_rules[i]\n",
    "        for j in range(len(eos_rules)):\n",
    "            if i!=j:\n",
    "                if tuple == eos_rules[j]:\n",
    "                    temp.append(tuple)\n",
    "                    continue\n",
    "    return list(set(temp))"
   ]
  },
  {
   "cell_type": "code",
   "execution_count": 242,
   "metadata": {},
   "outputs": [
    {
     "data": {
      "text/plain": [
       "'عقل خان کے مطابق اس خوبصورت چراگاہ کو کنڈیل شئی بانال کہا جاتا ہے - کنڈیل شئی بانال کے اس خوبصورت میدان کو اگر سویٹزرلینڈ کے کسی ہرے بھرے میدانی علاقے سے تشبیہہ دی جائے تو کچھ غلط نہیں ہوگا میدان میں داخل ہوتے ہی کچھ دیر آرام کرنے کی میری خواہش پر سب نے لبیک کہا ایسا لگا جیسے ان کی دل کی بات میرے لبوں سے ادا ہوئی ہو۔'"
      ]
     },
     "execution_count": 242,
     "metadata": {},
     "output_type": "execute_result"
    }
   ],
   "source": [
    "temp = []\n",
    "for i in bigram_rule():\n",
    "    temp.append(i[0])\n",
    "    \n",
    "test = []\n",
    "for i in test_tokens:\n",
    "    test.append(i)\n",
    "    if i in temp:\n",
    "        test.append('-')\n",
    "' '.join(test)"
   ]
  },
  {
   "cell_type": "markdown",
   "metadata": {},
   "source": [
    "`using bigram 2`"
   ]
  },
  {
   "cell_type": "code",
   "execution_count": 243,
   "metadata": {},
   "outputs": [
    {
     "data": {
      "text/plain": [
       "'عقل خان کے مطابق اس خوبصورت چراگاہ کو کنڈیل شئی بانال کہا - جاتا ہے - کنڈیل شئی بانال کے اس خوبصورت میدان کو اگر سویٹزرلینڈ کے کسی ہرے بھرے میدانی علاقے سے تشبیہہ دی جائے - تو کچھ غلط نہیں ہوگا میدان میں داخل ہوتے ہی کچھ دیر آرام کرنے کی میری خواہش پر سب نے - لبیک کہا - ایسا لگا جیسے ان کی دل کی بات میرے لبوں سے ادا ہوئی ہو۔'"
      ]
     },
     "execution_count": 243,
     "metadata": {},
     "output_type": "execute_result"
    }
   ],
   "source": [
    "def bigram2_rule():\n",
    "    eos_rules = []\n",
    "    for i in bigram:\n",
    "        if i[1] == '-':\n",
    "            eos_rules.append(i)\n",
    "    return list(set(eos_rules))\n",
    "                       \n",
    "temp = []\n",
    "for i in bigram2_rule():\n",
    "    temp.append(i[0])\n",
    "    \n",
    "test = []\n",
    "for i in test_tokens:\n",
    "    test.append(i)\n",
    "    if i in temp:\n",
    "        test.append('-')\n",
    "' '.join(test)"
   ]
  },
  {
   "cell_type": "code",
   "execution_count": null,
   "metadata": {},
   "outputs": [],
   "source": []
  }
 ],
 "metadata": {
  "colab": {
   "provenance": []
  },
  "kernelspec": {
   "display_name": "Python 3 (ipykernel)",
   "language": "python",
   "name": "python3"
  },
  "language_info": {
   "codemirror_mode": {
    "name": "ipython",
    "version": 3
   },
   "file_extension": ".py",
   "mimetype": "text/x-python",
   "name": "python",
   "nbconvert_exporter": "python",
   "pygments_lexer": "ipython3",
   "version": "3.12.2"
  }
 },
 "nbformat": 4,
 "nbformat_minor": 4
}
